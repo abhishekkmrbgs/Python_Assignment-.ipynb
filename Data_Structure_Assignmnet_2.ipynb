{
  "nbformat": 4,
  "nbformat_minor": 0,
  "metadata": {
    "colab": {
      "provenance": [],
      "authorship_tag": "ABX9TyMKzK0FrMLSzSnrtSPXaSZo",
      "include_colab_link": true
    },
    "kernelspec": {
      "name": "python3",
      "display_name": "Python 3"
    },
    "language_info": {
      "name": "python"
    }
  },
  "cells": [
    {
      "cell_type": "markdown",
      "metadata": {
        "id": "view-in-github",
        "colab_type": "text"
      },
      "source": [
        "<a href=\"https://colab.research.google.com/github/abhishekkmrbgs/Python_Assignment-.ipynb/blob/main/Data_Structure_Assignmnet_2.ipynb\" target=\"_parent\"><img src=\"https://colab.research.google.com/assets/colab-badge.svg\" alt=\"Open In Colab\"/></a>"
      ]
    },
    {
      "cell_type": "markdown",
      "source": [
        "1.   Discuss string slicing and provide examples.\n",
        "\n",
        "\n",
        "    String slicing is a powerful feature in Python that allows you to\n",
        "    extract a portion of a string (or any sequence type like lists and tuples) using a specific syntax.\n",
        "    \n",
        "    It is a way to access parts of strings quickly and efficiently.\n",
        "    \n",
        "    string slicing is:  \n",
        "    \n",
        "    string[start:stop:step]\n",
        "\n",
        "\n",
        "\n",
        "\n",
        "\n",
        "\n",
        "\n",
        "\n",
        "\n",
        "\n",
        "\n"
      ],
      "metadata": {
        "id": "rtWehlI_KfCm"
      }
    },
    {
      "cell_type": "code",
      "source": [
        "# Basic Slicing\n",
        "text = \"Hello, World!\"\n",
        "print(text[0:5])  # Output: 'Hello'\n"
      ],
      "metadata": {
        "colab": {
          "base_uri": "https://localhost:8080/"
        },
        "id": "0v8ES8d0MiHY",
        "outputId": "f2e1a82a-38bb-488d-ca55-13764724b0df"
      },
      "execution_count": null,
      "outputs": [
        {
          "output_type": "stream",
          "name": "stdout",
          "text": [
            "Hello\n"
          ]
        }
      ]
    },
    {
      "cell_type": "code",
      "source": [
        "# Omitting the start index\n",
        "print(text[:5])   # Output: 'Hello'"
      ],
      "metadata": {
        "colab": {
          "base_uri": "https://localhost:8080/"
        },
        "id": "yJMXpUZmKvHh",
        "outputId": "59331c5d-d800-4b9c-fdf1-87d431ef8091"
      },
      "execution_count": null,
      "outputs": [
        {
          "output_type": "stream",
          "name": "stdout",
          "text": [
            "Hello\n"
          ]
        }
      ]
    },
    {
      "cell_type": "markdown",
      "source": [],
      "metadata": {
        "id": "_65g5wDHKvro"
      }
    },
    {
      "cell_type": "code",
      "source": [
        "# Omitting the stop index\n",
        "print(text[7:])   # Output: 'World!'"
      ],
      "metadata": {
        "colab": {
          "base_uri": "https://localhost:8080/"
        },
        "id": "bBO8orSrNA2I",
        "outputId": "25e9130b-a54a-4d4d-db85-0ac9675d2f22"
      },
      "execution_count": null,
      "outputs": [
        {
          "output_type": "stream",
          "name": "stdout",
          "text": [
            "World!\n"
          ]
        }
      ]
    },
    {
      "cell_type": "code",
      "source": [
        "#Using a Negative Index\n",
        "\n",
        "print(text[-6:])   # Output: 'World!'"
      ],
      "metadata": {
        "colab": {
          "base_uri": "https://localhost:8080/"
        },
        "id": "v6-OvBrSNBux",
        "outputId": "1248945e-ba85-42f3-b005-f99e4380d5f9"
      },
      "execution_count": null,
      "outputs": [
        {
          "output_type": "stream",
          "name": "stdout",
          "text": [
            "World!\n"
          ]
        }
      ]
    },
    {
      "cell_type": "code",
      "source": [
        "#Using a Step\n",
        "text = \"H e l l o, W o r l d!\"\n",
        "print(text[::2])  # Output: 'Hello!'"
      ],
      "metadata": {
        "colab": {
          "base_uri": "https://localhost:8080/"
        },
        "id": "OPEA8ZadNatj",
        "outputId": "ee09188f-1adc-4912-ace4-28bbf18dd0b0"
      },
      "execution_count": null,
      "outputs": [
        {
          "output_type": "stream",
          "name": "stdout",
          "text": [
            "Hello     !\n"
          ]
        }
      ]
    },
    {
      "cell_type": "code",
      "source": [
        "#Using a Step\n",
        "text = \"Hello, World!\"\n",
        "print(text[::2])  # Output: 'Hlo ol!'"
      ],
      "metadata": {
        "colab": {
          "base_uri": "https://localhost:8080/"
        },
        "id": "6Hee8xzbN_TE",
        "outputId": "9c1975b8-d4a3-4451-de15-40d879015882"
      },
      "execution_count": null,
      "outputs": [
        {
          "output_type": "stream",
          "name": "stdout",
          "text": [
            "Hlo ol!\n"
          ]
        }
      ]
    },
    {
      "cell_type": "code",
      "source": [
        "#Slicing with a Negative Step (Reversing a String)\n",
        "text = \"Hello, World!\"\n",
        "print(text[::-1])  # Output: '!dlroW ,olleH'"
      ],
      "metadata": {
        "colab": {
          "base_uri": "https://localhost:8080/"
        },
        "id": "pdv2xbM9Qhmx",
        "outputId": "e1f885f8-e6d8-4f3a-beed-14f7f32f5175"
      },
      "execution_count": null,
      "outputs": [
        {
          "output_type": "stream",
          "name": "stdout",
          "text": [
            "!dlroW ,olleH\n"
          ]
        }
      ]
    },
    {
      "cell_type": "code",
      "source": [
        "#Slicing with a Negative Step (Reversing a String)\n",
        "text = \"H e l l o, W o r l d!\"\n",
        "print(text[::-1])  # Output: !d l r o W ,o l l e H"
      ],
      "metadata": {
        "colab": {
          "base_uri": "https://localhost:8080/"
        },
        "id": "Z0DsLxAGQ3Ov",
        "outputId": "c4068744-8c10-487c-f5f9-8c0fc0352fc3"
      },
      "execution_count": null,
      "outputs": [
        {
          "output_type": "stream",
          "name": "stdout",
          "text": [
            "!d l r o W ,o l l e H\n"
          ]
        }
      ]
    },
    {
      "cell_type": "code",
      "source": [
        "#Slicing with Start, Stop, and Step\n",
        "text = \"Hello, World!\"\n",
        "print(text[7:12:2])  # Output: 'Wrd'"
      ],
      "metadata": {
        "colab": {
          "base_uri": "https://localhost:8080/"
        },
        "id": "PmnPrZJjRCkn",
        "outputId": "36401982-b67a-4765-942d-d39a16af5f77"
      },
      "execution_count": null,
      "outputs": [
        {
          "output_type": "stream",
          "name": "stdout",
          "text": [
            "Wrd\n"
          ]
        }
      ]
    },
    {
      "cell_type": "code",
      "source": [
        "#Practical Examples\n",
        "\n",
        "# Extracting File Extensions\n",
        "\n",
        "filename = \"abhishek.txt\"\n",
        "extension = filename[-3:]\n",
        "print(extension)  # Output: 'txt'"
      ],
      "metadata": {
        "colab": {
          "base_uri": "https://localhost:8080/"
        },
        "id": "0mG6yzhrRYMH",
        "outputId": "6b03720f-b69d-496e-c58a-f8b3b8344930"
      },
      "execution_count": null,
      "outputs": [
        {
          "output_type": "stream",
          "name": "stdout",
          "text": [
            "txt\n"
          ]
        }
      ]
    },
    {
      "cell_type": "code",
      "source": [
        "filename = \"abhishek\"\n",
        "extension = filename[-3:]\n",
        "print(extension)  # Output: 'hek'"
      ],
      "metadata": {
        "colab": {
          "base_uri": "https://localhost:8080/"
        },
        "id": "DVnnqIdPSLA-",
        "outputId": "7450641f-d0d2-4441-9bfe-c27122cd300b"
      },
      "execution_count": null,
      "outputs": [
        {
          "output_type": "stream",
          "name": "stdout",
          "text": [
            "hek\n"
          ]
        }
      ]
    },
    {
      "cell_type": "code",
      "source": [
        "#Extracting the Domain from an Email\n",
        "\n",
        "email = \"user@example.com\"\n",
        "domain = email[email.index('@') + 1:]\n",
        "print(domain)  # Output: 'example.com'"
      ],
      "metadata": {
        "colab": {
          "base_uri": "https://localhost:8080/"
        },
        "id": "Tu6pHJy9SYzt",
        "outputId": "13ff644a-90ae-4028-9f27-482025299d7f"
      },
      "execution_count": null,
      "outputs": [
        {
          "output_type": "stream",
          "name": "stdout",
          "text": [
            "example.com\n"
          ]
        }
      ]
    },
    {
      "cell_type": "code",
      "source": [
        "email = \"abhishekkmrbgs2003@example.com\"\n",
        "domain = email[email.index('2003') + 1:]\n",
        "print(domain)  # Output: '003@example.com'"
      ],
      "metadata": {
        "colab": {
          "base_uri": "https://localhost:8080/"
        },
        "id": "EY1ITzH5SrmF",
        "outputId": "3cfc3bc4-092e-4e29-a948-5ec8f6f858bc"
      },
      "execution_count": null,
      "outputs": [
        {
          "output_type": "stream",
          "name": "stdout",
          "text": [
            "003@example.com\n"
          ]
        }
      ]
    },
    {
      "cell_type": "code",
      "source": [
        "email = \"abhishekkmrbgs2003@example.com\"\n",
        "domain = email[+ 1:]\n",
        "print(domain)  # Output: 'bhishekkmrbgs2003@example.com'"
      ],
      "metadata": {
        "colab": {
          "base_uri": "https://localhost:8080/"
        },
        "id": "iXIYbo4XTFZ_",
        "outputId": "87e5621d-34d1-4467-83d2-10e8656199a8"
      },
      "execution_count": null,
      "outputs": [
        {
          "output_type": "stream",
          "name": "stdout",
          "text": [
            "bhishekkmrbgs2003@example.com\n"
          ]
        }
      ]
    },
    {
      "cell_type": "code",
      "source": [
        "email = \"abhishekkmrbgs2003@example.com\"\n",
        "domain = email[+ 0:]\n",
        "print(domain)  # Output: 'abhishekkmrbgs2003@example.com'"
      ],
      "metadata": {
        "colab": {
          "base_uri": "https://localhost:8080/"
        },
        "id": "rQP8I4ItUQLV",
        "outputId": "ea923241-7a63-49a6-baa4-7476ce137623"
      },
      "execution_count": null,
      "outputs": [
        {
          "output_type": "stream",
          "name": "stdout",
          "text": [
            "abhishekkmrbgs2003@example.com\n"
          ]
        }
      ]
    },
    {
      "cell_type": "markdown",
      "source": [
        "2. Explain the key features of lists in Python.\n",
        "\n",
        "\n",
        "\n",
        "\n",
        "    In Python, lists are one of the most versatile and widely used data structures. They are part of the built-in data types in Python and come with a wide range of features that make them incredibly useful for various programming tasks.\n",
        "\n",
        "    Here are the key features of lists in Python:-\n",
        "\n",
        "    a. Ordered : Maintains insertion order\n",
        "\n",
        "    b. Mutable : \tElements can be modified\n",
        "\n",
        "    c. Allows Duplicates : Duplicate items are allowed\n",
        "\n",
        "    d. Slicing and Indexing : Supports indexing and slicing\n",
        "\n",
        "    e. List Comprehension : Supports list comprehension for concise  code\n",
        "\n",
        "    f. Built-in Methods : Provides various useful methods\n",
        "\n",
        "    g. Nested Lists : Supports multi-dimensional lists\n",
        "\n",
        "    h. Copying: Use slicing ([:]) or copy() to create shallow copies.\n",
        "\n",
        "    i. Dynamic Size : Grows and shrinks as needed\n",
        "\n"
      ],
      "metadata": {
        "id": "79Qb0h5DVCL9"
      }
    },
    {
      "cell_type": "markdown",
      "source": [
        " > a. Ordered\n",
        "\n",
        "\n",
        "    Lists are ordered collections, which means that the elements have a defined sequence, and this sequence will not change unless explicitly modified.\n",
        "\n",
        "    Each element in a list has an index starting from 0 (for the first element) to n-1 (for the last element)."
      ],
      "metadata": {
        "id": "giEJGpEaThgp"
      }
    },
    {
      "cell_type": "code",
      "source": [
        "fruits = ['apple', 'banana', 'cherry']\n",
        "print(fruits[0])  # Output: apple\n"
      ],
      "metadata": {
        "id": "N4ET-6F3VLka",
        "colab": {
          "base_uri": "https://localhost:8080/"
        },
        "outputId": "d8048c47-a28b-4aaa-986c-703136a85159"
      },
      "execution_count": null,
      "outputs": [
        {
          "output_type": "stream",
          "name": "stdout",
          "text": [
            "apple\n"
          ]
        }
      ]
    },
    {
      "cell_type": "code",
      "source": [
        "fruits = ['apple', 'banana', 'cherry']\n",
        "print(fruits[-1])  # Output: cherry"
      ],
      "metadata": {
        "colab": {
          "base_uri": "https://localhost:8080/"
        },
        "id": "0jVcGV3xUNEA",
        "outputId": "8e71eb36-0b03-4769-dd97-b1cdf0df1e31"
      },
      "execution_count": null,
      "outputs": [
        {
          "output_type": "stream",
          "name": "stdout",
          "text": [
            "cherry\n"
          ]
        }
      ]
    },
    {
      "cell_type": "code",
      "source": [
        "fruits = ['apple', 'banana', 'cherry']\n",
        "print(fruits[0:-1])  # Output: apple , banana"
      ],
      "metadata": {
        "colab": {
          "base_uri": "https://localhost:8080/"
        },
        "id": "I8RxHG2QUUzI",
        "outputId": "897c8cc1-d53a-421a-f6c6-6707847b0864"
      },
      "execution_count": null,
      "outputs": [
        {
          "output_type": "stream",
          "name": "stdout",
          "text": [
            "['apple', 'banana']\n"
          ]
        }
      ]
    },
    {
      "cell_type": "markdown",
      "source": [
        " > b.  Mutable\n",
        "\n",
        "    Lists are mutable, meaning you can change their content after creation. You can add, remove, or modify elements."
      ],
      "metadata": {
        "id": "WZJAYWquUmIf"
      }
    },
    {
      "cell_type": "code",
      "source": [
        "numbers = [1, 2, 3]\n",
        "numbers[1] = 5\n",
        "print(numbers)  # Output: [1, 5, 3]\n"
      ],
      "metadata": {
        "colab": {
          "base_uri": "https://localhost:8080/"
        },
        "id": "QGKCCsyBUVHo",
        "outputId": "7b991d33-0af8-467c-cd7e-b7f6fcbb4c77"
      },
      "execution_count": null,
      "outputs": [
        {
          "output_type": "stream",
          "name": "stdout",
          "text": [
            "[1, 5, 3]\n"
          ]
        }
      ]
    },
    {
      "cell_type": "code",
      "source": [
        "numbers = [1, 2, 3]\n",
        "numbers[2] = 90\n",
        "print(numbers)  # Output: [1, 5, 90]\n"
      ],
      "metadata": {
        "colab": {
          "base_uri": "https://localhost:8080/"
        },
        "id": "8kMJyViBUVUR",
        "outputId": "efed9b9f-af2c-46e5-d8cd-539f13fce65b"
      },
      "execution_count": null,
      "outputs": [
        {
          "output_type": "stream",
          "name": "stdout",
          "text": [
            "[1, 2, 90]\n"
          ]
        }
      ]
    },
    {
      "cell_type": "code",
      "source": [
        "numbers = [1, 2, 3]\n",
        "numbers[-1] = 5\n",
        "print(numbers)  # Output: [1, 2, 5]\n"
      ],
      "metadata": {
        "colab": {
          "base_uri": "https://localhost:8080/"
        },
        "id": "Ceh__hCOWLOa",
        "outputId": "050159a5-d065-4608-8702-dcae82611fbb"
      },
      "execution_count": null,
      "outputs": [
        {
          "output_type": "stream",
          "name": "stdout",
          "text": [
            "[1, 2, 5]\n"
          ]
        }
      ]
    },
    {
      "cell_type": "markdown",
      "source": [
        " > c.  Allows Duplicates\n",
        "\n",
        "    Lists allow duplicate values. This means the same element can appear multiple times in the list."
      ],
      "metadata": {
        "id": "nw1j0H_-WTMg"
      }
    },
    {
      "cell_type": "code",
      "source": [
        "dup_list = [1, 2, 2, 3, 3, 3]\n",
        "print(dup_list)  # Output: [1, 2, 2, 3, 3, 3]\n"
      ],
      "metadata": {
        "colab": {
          "base_uri": "https://localhost:8080/"
        },
        "id": "J0pz1XoOWLvH",
        "outputId": "1e31f4d3-537c-433b-b532-91e4d6694d53"
      },
      "execution_count": null,
      "outputs": [
        {
          "output_type": "stream",
          "name": "stdout",
          "text": [
            "[1, 2, 2, 3, 3, 3]\n"
          ]
        }
      ]
    },
    {
      "cell_type": "code",
      "source": [
        "dup_list = [1, 2, 2, 3, 3, 3.5,5+6j, True]\n",
        "print(dup_list)  # Output: [1, 2, 2, 3, 3, 3.5, (5+6j), True]\n"
      ],
      "metadata": {
        "colab": {
          "base_uri": "https://localhost:8080/"
        },
        "id": "WcWDSHAbWLzy",
        "outputId": "92362489-502d-4f43-d4af-a1a08c08a56e"
      },
      "execution_count": null,
      "outputs": [
        {
          "output_type": "stream",
          "name": "stdout",
          "text": [
            "[1, 2, 2, 3, 3, 3.5, (5+6j), True]\n"
          ]
        }
      ]
    },
    {
      "cell_type": "code",
      "source": [
        "dup_list = [1, 2, 2, 3, 3, 3]\n",
        "b = dup_list*3\n",
        "\n",
        "print(b) # Output: [1, 2, 2, 3, 3, 3]\n"
      ],
      "metadata": {
        "colab": {
          "base_uri": "https://localhost:8080/"
        },
        "id": "VCagBx5EWr-n",
        "outputId": "d997a55c-94e9-49dc-97f5-310c44a73c25"
      },
      "execution_count": null,
      "outputs": [
        {
          "output_type": "stream",
          "name": "stdout",
          "text": [
            "[1, 2, 2, 3, 3, 3, 1, 2, 2, 3, 3, 3, 1, 2, 2, 3, 3, 3]\n"
          ]
        }
      ]
    },
    {
      "cell_type": "markdown",
      "source": [
        " > d. Slicing and Indexing\n",
        "\n",
        "    You can access individual elements using indexing or a range of elements using slicing."
      ],
      "metadata": {
        "id": "Q6tnBGTqXBB2"
      }
    },
    {
      "cell_type": "code",
      "source": [
        "animals = ['cat', 'dog', 'rabbit', 'horse']\n",
        "print(animals[1])       # Output: dog\n",
        "print(animals[1:3])     # Output: ['dog', 'rabbit']\n",
        "print(animals[-1])      # Output: horse\n"
      ],
      "metadata": {
        "colab": {
          "base_uri": "https://localhost:8080/"
        },
        "id": "po_7d4mNWsPj",
        "outputId": "9d57308d-c61a-4e8c-90fe-d240b69bd9e2"
      },
      "execution_count": null,
      "outputs": [
        {
          "output_type": "stream",
          "name": "stdout",
          "text": [
            "dog\n",
            "['dog', 'rabbit']\n",
            "horse\n"
          ]
        }
      ]
    },
    {
      "cell_type": "markdown",
      "source": [
        "\n",
        " > e.  List Comprehension\n",
        "\n",
        "    Python supports list comprehension, a concise way to create lists based on existing lists.\n",
        "    \n",
        "    It's often used for applying some operation to each element or filtering elements.\n",
        "\n"
      ],
      "metadata": {
        "id": "k4ZHLEuBXXeT"
      }
    },
    {
      "cell_type": "code",
      "source": [
        "squares = [x**2 for x in range(5)]\n",
        "print(squares)  # Output: [0, 1, 4, 9, 16]\n"
      ],
      "metadata": {
        "colab": {
          "base_uri": "https://localhost:8080/"
        },
        "id": "rOKdBs1eXWOl",
        "outputId": "7cc31def-f041-4211-f6f6-9797bf294a2d"
      },
      "execution_count": null,
      "outputs": [
        {
          "output_type": "stream",
          "name": "stdout",
          "text": [
            "[0, 1, 4, 9, 16]\n"
          ]
        }
      ]
    },
    {
      "cell_type": "code",
      "source": [
        "a = (1, 2, 3, 4, 5, 6, 7)\n",
        "squares = [x**2 for x in a[5:6] ]\n",
        "print(squares)\n",
        "\n"
      ],
      "metadata": {
        "colab": {
          "base_uri": "https://localhost:8080/"
        },
        "id": "2YpRs5O6Xk0x",
        "outputId": "5f7f5c2c-4d87-4c9c-a531-38cc8afdf8a0"
      },
      "execution_count": null,
      "outputs": [
        {
          "output_type": "stream",
          "name": "stdout",
          "text": [
            "[36]\n"
          ]
        }
      ]
    },
    {
      "cell_type": "markdown",
      "source": [
        "> f.  Built-in List Methods\n",
        "\n",
        "    Lists come with many built-in methods for manipulating list content. Some common methods include:\n",
        "    \n",
        "        append(): Adds an element to the end of the list.\n",
        "\n",
        "        extend(): Adds all elements of an iterable (like another list) to the end of the list.\n",
        "\n",
        "        insert(): Inserts an element at a specified position.\n",
        "\n",
        "        remove(): Removes the first occurrence of a specified element.\n",
        "\n",
        "        pop(): Removes and returns the element at a specified position\n",
        "        (or the last element if no index is specified).\n",
        "\n",
        "        index(): Returns the index of the first occurrence of a specified element.\n",
        "\n",
        "        count(): Counts the number of occurrences of a specified element.\n",
        "\n",
        "        sort(): Sorts the list in ascending order.\n",
        "\n",
        "        reverse(): Reverses the elements of the list."
      ],
      "metadata": {
        "id": "oZ5eC7u-ZrwE"
      }
    },
    {
      "cell_type": "code",
      "source": [
        "numbers = [3, 1, 4, 1, 5, 9] # sort\n",
        "numbers.sort()\n",
        "print(numbers)  # Output: [1, 1, 3, 4, 5, 9]\n"
      ],
      "metadata": {
        "colab": {
          "base_uri": "https://localhost:8080/"
        },
        "id": "K6ufITTqXk_g",
        "outputId": "32bbdf2a-89ac-434b-b2b5-0f398c0d6d87"
      },
      "execution_count": null,
      "outputs": [
        {
          "output_type": "stream",
          "name": "stdout",
          "text": [
            "[1, 1, 3, 4, 5, 9]\n"
          ]
        }
      ]
    },
    {
      "cell_type": "code",
      "source": [
        "numbers = [3, 1, 4, 1, 5, 9] # append\n",
        "numbers.append(15)\n",
        "print(numbers)"
      ],
      "metadata": {
        "colab": {
          "base_uri": "https://localhost:8080/"
        },
        "id": "erUzxgZsXlEL",
        "outputId": "ffa82119-9d61-4ed1-c8b6-5aecef8f1116"
      },
      "execution_count": null,
      "outputs": [
        {
          "output_type": "stream",
          "name": "stdout",
          "text": [
            "[3, 1, 4, 1, 5, 9, 15]\n"
          ]
        }
      ]
    },
    {
      "cell_type": "code",
      "source": [
        "numbers = [3, 1, 4, 1, 5, 9] # extend\n",
        "numbers.extend([15,20,25,45,])\n",
        "print(numbers)"
      ],
      "metadata": {
        "colab": {
          "base_uri": "https://localhost:8080/"
        },
        "id": "0nhNIpQeXlI0",
        "outputId": "cd76d7a3-2b18-4b56-8fa1-5a95b60fbb97"
      },
      "execution_count": null,
      "outputs": [
        {
          "output_type": "stream",
          "name": "stdout",
          "text": [
            "[3, 1, 4, 1, 5, 9, 15, 20, 25, 45]\n"
          ]
        }
      ]
    },
    {
      "cell_type": "code",
      "source": [
        "numbers = [3, 1, 4, 1, 5, 9] # remove\n",
        "numbers.remove(5)\n",
        "print(numbers)"
      ],
      "metadata": {
        "colab": {
          "base_uri": "https://localhost:8080/"
        },
        "id": "Dzyi-mMriR1H",
        "outputId": "33a5e270-5f04-4b81-fbd0-b54dd46a7c82"
      },
      "execution_count": null,
      "outputs": [
        {
          "output_type": "stream",
          "name": "stdout",
          "text": [
            "[3, 1, 4, 1, 9]\n"
          ]
        }
      ]
    },
    {
      "cell_type": "markdown",
      "source": [
        " > g. Nested Lists\n",
        "\n",
        "    Lists can contain other lists as elements, allowing you to create nested lists (lists of lists). This is useful for representing multi-dimensional data."
      ],
      "metadata": {
        "id": "medmfGGSi6ad"
      }
    },
    {
      "cell_type": "code",
      "source": [
        "matrix = [\n",
        "    [1, 2, 3],\n",
        "    [4, 5, 6],\n",
        "    [7, 8, 9]\n",
        "]\n",
        "print(matrix[1][2])  # Output: 6\n"
      ],
      "metadata": {
        "colab": {
          "base_uri": "https://localhost:8080/"
        },
        "id": "3XM2RD5ziSAG",
        "outputId": "fe01f020-7075-4f2d-8209-28cc63cc8454"
      },
      "execution_count": null,
      "outputs": [
        {
          "output_type": "stream",
          "name": "stdout",
          "text": [
            "6\n"
          ]
        }
      ]
    },
    {
      "cell_type": "markdown",
      "source": [
        "h. Copying\n",
        "\n",
        "\n",
        "    Be cautious when copying lists. Using = creates a reference to the original list, not a copy. Use copy() method or list slicing ([:]) for shallow copies."
      ],
      "metadata": {
        "id": "p1kNIhsNsHsZ"
      }
    },
    {
      "cell_type": "code",
      "source": [
        "original = [1, 2, 3]\n",
        "copy = original[:]  # or use original.copy()\n",
        "copy.append(4)\n",
        "print(original)  # Output: [1, 2, 3]\n",
        "print(copy)      # Output: [1, 2, 3, 4]\n"
      ],
      "metadata": {
        "colab": {
          "base_uri": "https://localhost:8080/"
        },
        "id": "ZtFaRY4PsVAz",
        "outputId": "5f5e66b3-2dec-43ad-e2d6-f04cb4a61ad7"
      },
      "execution_count": null,
      "outputs": [
        {
          "output_type": "stream",
          "name": "stdout",
          "text": [
            "[1, 2, 3]\n",
            "[1, 2, 3, 4]\n"
          ]
        }
      ]
    },
    {
      "cell_type": "markdown",
      "source": [
        "i. Dynamic Size\n",
        "\n",
        "    Python lists are dynamic, meaning their size can change as you add or remove elements. Unlike arrays in some other languages, you don’t need to declare the size of a list in advance."
      ],
      "metadata": {
        "id": "lfM71C2Usp4O"
      }
    },
    {
      "cell_type": "code",
      "source": [
        "numbers = [1, 2, 3]\n",
        "numbers.append(4)\n",
        "print(numbers)  # Output: [1, 2, 3, 4]\n"
      ],
      "metadata": {
        "colab": {
          "base_uri": "https://localhost:8080/"
        },
        "id": "0boofhensVYI",
        "outputId": "2dac29f8-33db-4b77-e43b-35b2df738038"
      },
      "execution_count": null,
      "outputs": [
        {
          "output_type": "stream",
          "name": "stdout",
          "text": [
            "[1, 2, 3, 4]\n"
          ]
        }
      ]
    },
    {
      "cell_type": "markdown",
      "source": [
        "3. Describe how to access, modify, and delete elements in a list with examples.\n",
        "\n",
        "\n",
        "    In Python, lists are mutable, meaning their elements can be accessed, modified, or deleted.\n",
        "    \n",
        "    Let's explore how to access, modify, and delete elements in a list with examples.\n"
      ],
      "metadata": {
        "id": "4IOkjCjYVMFv"
      }
    },
    {
      "cell_type": "markdown",
      "source": [
        "a. Accessing Elements in a List\n",
        "\n",
        "    You can access elements in a list using indexing and slicing."
      ],
      "metadata": {
        "id": "wZYY8B1hVP31"
      }
    },
    {
      "cell_type": "code",
      "source": [
        "# Creating a list\n",
        "fruits = [\"apple\", \"banana\", \"cherry\", \"date\", \"elderberry\"]\n",
        "\n",
        "# Accessing elements by index\n",
        "print(fruits[0])  # Output: apple (first element)\n",
        "\n",
        "print(fruits[2])  # Output: cherry (third element)\n"
      ],
      "metadata": {
        "id": "i50zeEGmUrb9",
        "colab": {
          "base_uri": "https://localhost:8080/"
        },
        "outputId": "f44ddbbd-2aaf-431e-8153-e36867605636"
      },
      "execution_count": null,
      "outputs": [
        {
          "output_type": "stream",
          "name": "stdout",
          "text": [
            "apple\n",
            "cherry\n"
          ]
        }
      ]
    },
    {
      "cell_type": "code",
      "source": [
        "# Accessing the last element using negative index\n",
        "\n",
        "print(fruits[-1]) # Output: elderberry (last element)"
      ],
      "metadata": {
        "colab": {
          "base_uri": "https://localhost:8080/"
        },
        "id": "s_jfhlcKwPac",
        "outputId": "2cc12fbf-f617-4f53-8527-680c2b30dda9"
      },
      "execution_count": null,
      "outputs": [
        {
          "output_type": "stream",
          "name": "stdout",
          "text": [
            "elderberry\n"
          ]
        }
      ]
    },
    {
      "cell_type": "code",
      "source": [
        "# Slicing the list (start index is inclusive, stop index is exclusive)\n",
        "\n",
        "\n",
        "print(fruits[1:4]) # Output: ['banana', 'cherry', 'date']"
      ],
      "metadata": {
        "colab": {
          "base_uri": "https://localhost:8080/"
        },
        "id": "Z7AERt75wPoT",
        "outputId": "fa9ed7ec-98cf-4983-a385-93ec5b2f5d93"
      },
      "execution_count": null,
      "outputs": [
        {
          "output_type": "stream",
          "name": "stdout",
          "text": [
            "['banana', 'cherry', 'date']\n"
          ]
        }
      ]
    },
    {
      "cell_type": "code",
      "source": [
        "print(fruits[:3])  # Output: ['apple', 'banana', 'cherry']"
      ],
      "metadata": {
        "colab": {
          "base_uri": "https://localhost:8080/"
        },
        "id": "F2S1uYfGwPwA",
        "outputId": "7239bfe1-c3b9-48a6-d2d0-5533a907eee9"
      },
      "execution_count": null,
      "outputs": [
        {
          "output_type": "stream",
          "name": "stdout",
          "text": [
            "['apple', 'banana', 'cherry']\n"
          ]
        }
      ]
    },
    {
      "cell_type": "code",
      "source": [
        "print(fruits[2:])  # Output: ['cherry', 'date', 'elderberry']"
      ],
      "metadata": {
        "colab": {
          "base_uri": "https://localhost:8080/"
        },
        "id": "CEra56n7wQC_",
        "outputId": "c01d8733-d30e-4572-da49-39180697be31"
      },
      "execution_count": null,
      "outputs": [
        {
          "output_type": "stream",
          "name": "stdout",
          "text": [
            "['cherry', 'date', 'elderberry']\n"
          ]
        }
      ]
    },
    {
      "cell_type": "markdown",
      "source": [
        "b. Modifying Elements in a List\n",
        "\n",
        "    You can modify elements by directly assigning new values to specific indices or slices."
      ],
      "metadata": {
        "id": "35S4UqU1xB1j"
      }
    },
    {
      "cell_type": "code",
      "source": [
        "# Modifying a single element\n",
        "\n",
        "# Creating a list\n",
        "fruits = [\"apple\", \"banana\", \"cherry\", \"date\", \"elderberry\"]\n",
        "\n",
        "fruits[1] = \"blueberry\"\n",
        "print(fruits) # Output: ['apple', 'blueberry', 'cherry', 'date', 'elderberry']"
      ],
      "metadata": {
        "colab": {
          "base_uri": "https://localhost:8080/"
        },
        "id": "jCvnDj1lwQUY",
        "outputId": "cd99ff64-7872-4aab-e05c-92ce6c9ef93b"
      },
      "execution_count": null,
      "outputs": [
        {
          "output_type": "stream",
          "name": "stdout",
          "text": [
            "['apple', 'blueberry', 'cherry', 'date', 'elderberry']\n"
          ]
        }
      ]
    },
    {
      "cell_type": "code",
      "source": [
        "# Modifying multiple elements using slicing\n",
        "\n",
        "fruits[2:4] = [\"cranberry\", \"dragonfruit\"]\n",
        "print(fruits) # Output: ['apple', 'blueberry', 'cranberry', 'dragonfruit', 'elderberry']"
      ],
      "metadata": {
        "colab": {
          "base_uri": "https://localhost:8080/"
        },
        "id": "x6-O5puixMvj",
        "outputId": "288c5c3b-b028-4e60-cda0-1481017a06cc"
      },
      "execution_count": null,
      "outputs": [
        {
          "output_type": "stream",
          "name": "stdout",
          "text": [
            "['apple', 'blueberry', 'cranberry', 'dragonfruit', 'elderberry']\n"
          ]
        }
      ]
    },
    {
      "cell_type": "code",
      "source": [
        "# Adding elements using slicing\n",
        "\n",
        "fruits[2:2] = [\"kiwi\"]\n",
        "print(fruits) # Output: ['apple', 'blueberry', 'kiwi', 'cranberry', 'dragonfruit', 'elderberry']"
      ],
      "metadata": {
        "colab": {
          "base_uri": "https://localhost:8080/"
        },
        "id": "6SdP-orzxM-r",
        "outputId": "8b05e6d7-247d-4ac3-c89b-fd38942d09be"
      },
      "execution_count": null,
      "outputs": [
        {
          "output_type": "stream",
          "name": "stdout",
          "text": [
            "['apple', 'blueberry', 'kiwi', 'cranberry', 'dragonfruit', 'elderberry']\n"
          ]
        }
      ]
    },
    {
      "cell_type": "code",
      "source": [],
      "metadata": {
        "id": "zpOsFZRJxNLj"
      },
      "execution_count": null,
      "outputs": []
    },
    {
      "cell_type": "markdown",
      "source": [
        "c. Deleting Elements in a List\n",
        "\n",
        "    You can delete elements using:\n",
        "\n",
        "    The del statement\n",
        "\n",
        "    The remove() method\n",
        "\n",
        "    The pop() method\n",
        "    \n",
        "    The clear() method (to delete all elements)"
      ],
      "metadata": {
        "id": "caNnnC2gytaF"
      }
    },
    {
      "cell_type": "code",
      "source": [
        "# Using `del` to delete by index\n",
        "del fruits[3]\n",
        "print(fruits) # Output: ['apple', 'blueberry', 'kiwi', 'dragonfruit', 'elderberry']\n"
      ],
      "metadata": {
        "colab": {
          "base_uri": "https://localhost:8080/"
        },
        "id": "jqsKko_9xNal",
        "outputId": "96134c99-0495-4668-d806-af40e03a129f"
      },
      "execution_count": null,
      "outputs": [
        {
          "output_type": "stream",
          "name": "stdout",
          "text": [
            "['apple', 'blueberry', 'kiwi', 'dragonfruit', 'elderberry']\n"
          ]
        }
      ]
    },
    {
      "cell_type": "code",
      "source": [
        "# Using `del` with slicing\n",
        "del fruits[1:3]\n",
        "print(fruits) # Output: ['apple', 'dragonfruit', 'elderberry']"
      ],
      "metadata": {
        "colab": {
          "base_uri": "https://localhost:8080/"
        },
        "id": "nDsGpkXkxNp4",
        "outputId": "a6efa1e9-f96c-4153-a8e5-d3303e7579ea"
      },
      "execution_count": null,
      "outputs": [
        {
          "output_type": "stream",
          "name": "stdout",
          "text": [
            "['apple', 'dragonfruit', 'elderberry']\n"
          ]
        }
      ]
    },
    {
      "cell_type": "code",
      "source": [
        "# Using `remove()` to delete by value\n",
        "fruits = [\"apple\", \"banana\", \"cherry\", \"date\", \"elderberry\"]\n",
        "\n",
        "fruits.remove(\"cherry\")\n",
        "print(fruits) # Output: ['apple','banana', 'date', 'elderberry']\n"
      ],
      "metadata": {
        "colab": {
          "base_uri": "https://localhost:8080/"
        },
        "id": "HCUXjvaG0sr9",
        "outputId": "fab5aef5-7051-4c20-8dea-cd26da9bbf64"
      },
      "execution_count": null,
      "outputs": [
        {
          "output_type": "stream",
          "name": "stdout",
          "text": [
            "['apple', 'banana', 'date', 'elderberry']\n"
          ]
        }
      ]
    },
    {
      "cell_type": "code",
      "source": [
        "# Using `pop()` to delete and return the last element\n",
        "\n",
        "last_fruit = fruits.pop()\n",
        "print(last_fruit) # Output: elderberry\n",
        "print(fruits)     # Output: ['apple', 'banana', 'date]"
      ],
      "metadata": {
        "colab": {
          "base_uri": "https://localhost:8080/"
        },
        "id": "B71AZcP00s09",
        "outputId": "b2673471-0734-49e2-9796-5e4091f7d644"
      },
      "execution_count": null,
      "outputs": [
        {
          "output_type": "stream",
          "name": "stdout",
          "text": [
            "elderberry\n",
            "['apple', 'banana', 'date']\n"
          ]
        }
      ]
    },
    {
      "cell_type": "code",
      "source": [
        "# Using `pop(index)` to delete by index\n",
        "fruits.append(\"fig\")\n",
        "removed_fruit = fruits.pop(0)\n",
        "print(removed_fruit) # Output: apple\n",
        "print(fruits)        # Output: ['banana', 'date','fig']\n"
      ],
      "metadata": {
        "colab": {
          "base_uri": "https://localhost:8080/"
        },
        "id": "ugPWECWr2_UE",
        "outputId": "8492e1b0-7915-46e4-89ae-3f49020698eb"
      },
      "execution_count": null,
      "outputs": [
        {
          "output_type": "stream",
          "name": "stdout",
          "text": [
            "apple\n",
            "['banana', 'date', 'fig']\n"
          ]
        }
      ]
    },
    {
      "cell_type": "code",
      "source": [
        "# Using `clear()` to delete all elements\n",
        "fruits.clear()\n",
        "print(fruits) # Output: []"
      ],
      "metadata": {
        "colab": {
          "base_uri": "https://localhost:8080/"
        },
        "id": "ZTe7ug6j0s9W",
        "outputId": "289519bf-e2b4-4a33-9526-11be6fd43edb"
      },
      "execution_count": null,
      "outputs": [
        {
          "output_type": "stream",
          "name": "stdout",
          "text": [
            "[]\n"
          ]
        }
      ]
    },
    {
      "cell_type": "code",
      "source": [],
      "metadata": {
        "id": "t7LW5_s30tT2"
      },
      "execution_count": null,
      "outputs": []
    },
    {
      "cell_type": "markdown",
      "source": [
        "4.  Compare and contrast tuples and lists with examples\n",
        "\n",
        "\n",
        "    Tuples vs. Lists in Python\n",
        "\n",
        "    Both tuples and lists are ways to store collections of items in Python, but they have some key differences.\n",
        "    \n",
        "    Let's break down their features with simple examples.\n",
        "\n",
        "    a. Mutability\n",
        "\n",
        "    b. Syntax\n",
        "\n",
        "    c. Use Cases\n",
        "    \n",
        "    d. Size (Memory Usage)\n",
        "\n",
        "    e. Methods\n",
        "\n",
        "    f. Performance (Speed)\n",
        "\n",
        "    Tuples are generally faster than lists because they are immutable.\n",
        "    \n",
        "    If you have a large collection of items that won't change, using a tuple can save memory and make your program faster.\n",
        "    \n",
        "\n",
        "\n",
        "\n"
      ],
      "metadata": {
        "id": "hV2sAYZ_VX4K"
      }
    },
    {
      "cell_type": "markdown",
      "source": [
        "  a. Mutability (Can it be changed?)\n",
        "\n",
        "    Lists are mutable, which means you can change, add, or remove items after creating the list.\n",
        "\n",
        "    \n",
        "    Tuples are immutable, meaning once you create a tuple, you cannot change its contents."
      ],
      "metadata": {
        "id": "EbHIQAcZe6MW"
      }
    },
    {
      "cell_type": "code",
      "source": [
        "# List example (mutable)\n",
        "\n",
        "my_list = [1, 2, 3]\n",
        "my_list[0] = 10   # Changing the first item\n",
        "print(my_list)    # Output: [10, 2, 3]"
      ],
      "metadata": {
        "id": "4q04Eu22wN0G",
        "colab": {
          "base_uri": "https://localhost:8080/"
        },
        "outputId": "798dce21-efa9-4179-da75-ff23698238d1"
      },
      "execution_count": null,
      "outputs": [
        {
          "output_type": "stream",
          "name": "stdout",
          "text": [
            "[10, 2, 3]\n"
          ]
        }
      ]
    },
    {
      "cell_type": "code",
      "source": [
        "# Tuple example (immutable)\n",
        "\n",
        "my_tuple = (1, 2, 3)\n",
        "my_tuple[0] = 10  # This will give an error because tuples can't be changed"
      ],
      "metadata": {
        "id": "DZajuSzQVBJL",
        "colab": {
          "base_uri": "https://localhost:8080/",
          "height": 180
        },
        "outputId": "f553c7df-01e4-4cc5-a613-a7bc6d77b28f"
      },
      "execution_count": null,
      "outputs": [
        {
          "output_type": "error",
          "ename": "TypeError",
          "evalue": "'tuple' object does not support item assignment",
          "traceback": [
            "\u001b[0;31m---------------------------------------------------------------------------\u001b[0m",
            "\u001b[0;31mTypeError\u001b[0m                                 Traceback (most recent call last)",
            "\u001b[0;32m<ipython-input-3-1711d4a27103>\u001b[0m in \u001b[0;36m<cell line: 3>\u001b[0;34m()\u001b[0m\n\u001b[1;32m      1\u001b[0m \u001b[0;31m# Tuple example (immutable)\u001b[0m\u001b[0;34m\u001b[0m\u001b[0;34m\u001b[0m\u001b[0m\n\u001b[1;32m      2\u001b[0m \u001b[0mmy_tuple\u001b[0m \u001b[0;34m=\u001b[0m \u001b[0;34m(\u001b[0m\u001b[0;36m1\u001b[0m\u001b[0;34m,\u001b[0m \u001b[0;36m2\u001b[0m\u001b[0;34m,\u001b[0m \u001b[0;36m3\u001b[0m\u001b[0;34m)\u001b[0m\u001b[0;34m\u001b[0m\u001b[0;34m\u001b[0m\u001b[0m\n\u001b[0;32m----> 3\u001b[0;31m \u001b[0mmy_tuple\u001b[0m\u001b[0;34m[\u001b[0m\u001b[0;36m0\u001b[0m\u001b[0;34m]\u001b[0m \u001b[0;34m=\u001b[0m \u001b[0;36m10\u001b[0m  \u001b[0;31m# This will give an error because tuples can't be changed\u001b[0m\u001b[0;34m\u001b[0m\u001b[0;34m\u001b[0m\u001b[0m\n\u001b[0m",
            "\u001b[0;31mTypeError\u001b[0m: 'tuple' object does not support item assignment"
          ]
        }
      ]
    },
    {
      "cell_type": "markdown",
      "source": [
        "b. Syntax (How they are created)\n",
        "\n",
        "    Lists are created using square brackets [ ].\n",
        "\n",
        "    \n",
        "    Tuples are created using parentheses ( )."
      ],
      "metadata": {
        "id": "__EH4fEVgLl7"
      }
    },
    {
      "cell_type": "code",
      "source": [
        "# Creating a list\n",
        "\n",
        "my_list = [1, 2, 3]\n",
        "my_list"
      ],
      "metadata": {
        "colab": {
          "base_uri": "https://localhost:8080/"
        },
        "id": "cnpZv7IsgI1A",
        "outputId": "c427ae32-276c-41d2-a297-58cff2974010"
      },
      "execution_count": null,
      "outputs": [
        {
          "output_type": "execute_result",
          "data": {
            "text/plain": [
              "[1, 2, 3]"
            ]
          },
          "metadata": {},
          "execution_count": 5
        }
      ]
    },
    {
      "cell_type": "code",
      "source": [
        "# Creating a tuple\n",
        "\n",
        "my_tuple = (1, 2, 3)\n",
        "my_tuple"
      ],
      "metadata": {
        "colab": {
          "base_uri": "https://localhost:8080/"
        },
        "id": "Nx9QVFx1gJLK",
        "outputId": "ee5ff1a6-3017-4e4c-f8c9-fac7c1c40716"
      },
      "execution_count": null,
      "outputs": [
        {
          "output_type": "execute_result",
          "data": {
            "text/plain": [
              "(1, 2, 3)"
            ]
          },
          "metadata": {},
          "execution_count": 6
        }
      ]
    },
    {
      "cell_type": "markdown",
      "source": [
        "c. Use Cases (When to use which)\n",
        "\n",
        "    Use a list when you need a collection of items that can change over time (e.g., a shopping list, a list of tasks).\n",
        "\n",
        "    \n",
        "    Use a tuple when you need a collection of items that should stay the same (e.g., coordinates (x, y), days of the week)."
      ],
      "metadata": {
        "id": "w0AnAXj7gjV2"
      }
    },
    {
      "cell_type": "code",
      "source": [
        "# List for things that change\n",
        "\n",
        "shopping_list = [\"milk\", \"bread\", \"eggs\"]\n",
        "shopping_list.append(\"butter\")  # Adding an item to the list\n",
        "print(shopping_list)            # Output: ['milk', 'bread', 'eggs', 'butter']"
      ],
      "metadata": {
        "colab": {
          "base_uri": "https://localhost:8080/"
        },
        "id": "A_7Z6G5bgJXo",
        "outputId": "07146bf3-7865-4514-ee85-cf971dd96a18"
      },
      "execution_count": null,
      "outputs": [
        {
          "output_type": "stream",
          "name": "stdout",
          "text": [
            "['milk', 'bread', 'eggs', 'butter']\n"
          ]
        }
      ]
    },
    {
      "cell_type": "code",
      "source": [
        "#Tuple for things that don't change\n",
        "\n",
        "coordinates = (10.5, 20.3)\n",
        "coordinates[0] = 15.0  # This will give an error because tuples can't be modified"
      ],
      "metadata": {
        "colab": {
          "base_uri": "https://localhost:8080/",
          "height": 180
        },
        "id": "dmmlqUi7gJmu",
        "outputId": "f3d7aeea-24cb-46e5-ad86-ceec611b2efc"
      },
      "execution_count": null,
      "outputs": [
        {
          "output_type": "error",
          "ename": "TypeError",
          "evalue": "'tuple' object does not support item assignment",
          "traceback": [
            "\u001b[0;31m---------------------------------------------------------------------------\u001b[0m",
            "\u001b[0;31mTypeError\u001b[0m                                 Traceback (most recent call last)",
            "\u001b[0;32m<ipython-input-8-b83e152a7d17>\u001b[0m in \u001b[0;36m<cell line: 3>\u001b[0;34m()\u001b[0m\n\u001b[1;32m      1\u001b[0m \u001b[0;31m#Tuple for things that don't change\u001b[0m\u001b[0;34m\u001b[0m\u001b[0;34m\u001b[0m\u001b[0m\n\u001b[1;32m      2\u001b[0m \u001b[0mcoordinates\u001b[0m \u001b[0;34m=\u001b[0m \u001b[0;34m(\u001b[0m\u001b[0;36m10.5\u001b[0m\u001b[0;34m,\u001b[0m \u001b[0;36m20.3\u001b[0m\u001b[0;34m)\u001b[0m\u001b[0;34m\u001b[0m\u001b[0;34m\u001b[0m\u001b[0m\n\u001b[0;32m----> 3\u001b[0;31m \u001b[0mcoordinates\u001b[0m\u001b[0;34m[\u001b[0m\u001b[0;36m0\u001b[0m\u001b[0;34m]\u001b[0m \u001b[0;34m=\u001b[0m \u001b[0;36m15.0\u001b[0m  \u001b[0;31m# This will give an error because tuples can't be modified\u001b[0m\u001b[0;34m\u001b[0m\u001b[0;34m\u001b[0m\u001b[0m\n\u001b[0m",
            "\u001b[0;31mTypeError\u001b[0m: 'tuple' object does not support item assignment"
          ]
        }
      ]
    },
    {
      "cell_type": "markdown",
      "source": [
        "d. Size (Memory Usage)\n",
        "\n",
        "    Tuples usually use less memory than lists since they are immutable.\n",
        "\n",
        "    Lists use more memory because they are dynamic and mutable, meaning they need extra space to handle changes (like adding or removing elements).\n",
        "\n",
        "\n",
        "    Tuples are more memory efficient since they are immutable, which makes them more lightweight.\n",
        "\n",
        "\n",
        "    Tuples are generally more memory efficient than lists, especially when dealing with large collections of data.\n",
        "\n",
        "\n",
        "    Use tuples when you have a fixed collection of items that do not need to change, and you want to save on memory. Use lists when you need the flexibility to modify your collection.\n",
        "\n",
        "\n",
        "\n",
        "    Conclusion\n",
        "\n",
        "    Collection Type\t Size (Small Example)\t  Size (Large Example)\n",
        "\n",
        "    List\t            96 bytes\t                    9112 bytes\n",
        "\n",
        "    Tuple\t            80 bytes\t                    8024 bytes"
      ],
      "metadata": {
        "id": "Atvx1TAni2OW"
      }
    },
    {
      "cell_type": "markdown",
      "source": [
        "e.  Methods (What you can do with them)\n",
        "\n",
        "    Lists have more built-in methods because they are mutable (e.g., .append(), .remove(), .sort()).\n",
        "    \n",
        "    Tuples have fewer methods since they can't be changed (e.g., .count(), .index())."
      ],
      "metadata": {
        "id": "AK_msK7TlTou"
      }
    },
    {
      "cell_type": "code",
      "source": [
        "# List methods\n",
        "my_list = [1, 2, 3]\n",
        "my_list.append(4)    # Adds 4 to the list\n",
        "print(my_list)       # Output: [1, 2, 3, 4]\n"
      ],
      "metadata": {
        "colab": {
          "base_uri": "https://localhost:8080/"
        },
        "id": "tXtQUdvui54d",
        "outputId": "6f57d7c4-1262-48fd-fe5a-484ad988dc15"
      },
      "execution_count": null,
      "outputs": [
        {
          "output_type": "stream",
          "name": "stdout",
          "text": [
            "[1, 2, 3, 4]\n"
          ]
        }
      ]
    },
    {
      "cell_type": "code",
      "source": [
        "# Tuple methods\n",
        "my_tuple = (1, 2, 2, 3)\n",
        "print(my_tuple.count(2))  # Counts how many times 2 appears: Output: 2\n",
        "print(my_tuple.index(3))  # Finds the index of 3: Output: 3"
      ],
      "metadata": {
        "colab": {
          "base_uri": "https://localhost:8080/"
        },
        "id": "E38DxGtgi6Dp",
        "outputId": "7c5b913f-a14d-417b-d30d-2db5be51ff5e"
      },
      "execution_count": null,
      "outputs": [
        {
          "output_type": "stream",
          "name": "stdout",
          "text": [
            "2\n",
            "3\n"
          ]
        }
      ]
    },
    {
      "cell_type": "markdown",
      "source": [
        "5. Describe the key features of sets and provide examples of their  use.\n",
        "\n",
        "\n",
        "    Sets are a fundamental data structure in mathematics and computer science, used to store unique elements without any particular order. Let's dive into the key features of sets and provide some examples of their use.\n",
        "\n",
        "    Key Features of Sets\n",
        "\n",
        "    a. Unique Elements:\n",
        "        A set can only contain unique elements, meaning no duplicates are allowed. For example, if you try to add the number 5 twice to a set, it will only appear once.\n",
        "\n",
        "    b. Unordered Collection:\n",
        "        Sets do not maintain the order of elements. Unlike lists or arrays, the elements of a set are stored in an unpredictable order, and indexing is not allowed.\n",
        "\n",
        "    c. Mutable (in most programming languages):\n",
        "        Sets are mutable, meaning you can add or remove elements after the set is created (with methods like .add() or .remove()). However, the elements themselves must be immutable (e.g., numbers, strings, tuples).\n",
        "\n",
        "    d. Efficient Membership Testing:\n",
        "        Sets are optimized for membership tests (i.e., checking if an element is in the set) and have an average time complexity of O(1)O(1) for such operations. This makes them very efficient for tasks like filtering duplicates or checking for the presence of elements.\n",
        "\n",
        "    e. Mathematical Set Operations:\n",
        "        Sets support standard mathematical operations such as:\n",
        "            Union (A | B): Combines elements from both sets.\n",
        "            Intersection (A & B): Finds elements common to both sets.\n",
        "            Difference (A - B): Elements in one set but not in the other.\n",
        "            Symmetric Difference (A ^ B): Elements in either set but not in both."
      ],
      "metadata": {
        "id": "Ob5quLnfVh2s"
      }
    },
    {
      "cell_type": "code",
      "source": [
        "#Unique Elements example\n",
        "\n",
        "# Original list with duplicates\n",
        "numbers = [10, 20, 20, 30, 40, 40, 50, 50]\n",
        "\n",
        "# Convert list to set to remove duplicates\n",
        "unique_numbers = set(numbers)\n",
        "\n",
        "# Display the result\n",
        "print(unique_numbers)\n"
      ],
      "metadata": {
        "id": "H0IVKyEwVliM",
        "colab": {
          "base_uri": "https://localhost:8080/"
        },
        "outputId": "27f4e066-53a4-45de-e89e-8ff3fa7a4918"
      },
      "execution_count": null,
      "outputs": [
        {
          "output_type": "stream",
          "name": "stdout",
          "text": [
            "{40, 10, 50, 20, 30}\n"
          ]
        }
      ]
    },
    {
      "cell_type": "code",
      "source": [
        "# Unordered Collection example\n",
        "\n",
        "# Creating a set with multiple elements\n",
        "my_set = {10, 20, 30, 40, 50}\n",
        "\n",
        "# Printing the set multiple times\n",
        "print(my_set)\n",
        "print(my_set)\n",
        "print(my_set)\n"
      ],
      "metadata": {
        "colab": {
          "base_uri": "https://localhost:8080/"
        },
        "id": "-lLbvDeQqB9l",
        "outputId": "f542bf65-8fa1-455a-e5b8-9cbf4abf5331"
      },
      "execution_count": null,
      "outputs": [
        {
          "output_type": "stream",
          "name": "stdout",
          "text": [
            "{50, 20, 40, 10, 30}\n",
            "{50, 20, 40, 10, 30}\n",
            "{50, 20, 40, 10, 30}\n"
          ]
        }
      ]
    },
    {
      "cell_type": "code",
      "source": [
        "# List with duplicates and a specific order\n",
        "items = [\"apple\", \"banana\", \"apple\", \"orange\", \"banana\"]\n",
        "\n",
        "# Convert to set to remove duplicates\n",
        "unique_items = set(items)\n",
        "\n",
        "print(unique_items)\n",
        "# Output: {'banana', 'orange', 'apple'}\n"
      ],
      "metadata": {
        "colab": {
          "base_uri": "https://localhost:8080/"
        },
        "id": "BirfVVwdqCI0",
        "outputId": "e3f3193b-ab46-463e-fedd-e94c17bc855e"
      },
      "execution_count": null,
      "outputs": [
        {
          "output_type": "stream",
          "name": "stdout",
          "text": [
            "{'banana', 'apple', 'orange'}\n"
          ]
        }
      ]
    },
    {
      "cell_type": "code",
      "source": [
        "# Mutable example\n",
        "\n",
        "fruits = {\"apple\", \"banana\", \"cherry\"}\n",
        "\n",
        "# Add a new element to the set\n",
        "b = fruits.add(\"orange\")\n",
        "print(fruits)"
      ],
      "metadata": {
        "colab": {
          "base_uri": "https://localhost:8080/"
        },
        "id": "bR5u45FIqCT_",
        "outputId": "5555f738-e69b-485d-a6ff-9d2ea3b14c31"
      },
      "execution_count": null,
      "outputs": [
        {
          "output_type": "stream",
          "name": "stdout",
          "text": [
            "{'banana', 'apple', 'orange', 'cherry'}\n"
          ]
        }
      ]
    },
    {
      "cell_type": "code",
      "source": [
        "fruits.remove(\"banana\")\n",
        "print(fruits)"
      ],
      "metadata": {
        "colab": {
          "base_uri": "https://localhost:8080/"
        },
        "id": "xFO2BlJsqCed",
        "outputId": "62760067-13b1-474a-bd72-598d28d6a718"
      },
      "execution_count": null,
      "outputs": [
        {
          "output_type": "stream",
          "name": "stdout",
          "text": [
            "{'apple', 'orange', 'cherry'}\n"
          ]
        }
      ]
    },
    {
      "cell_type": "code",
      "source": [
        "# Efficient Membership Testing example\n",
        "\n",
        "emails = {\"alice@example.com\", \"bob@example.com\", \"carol@example.com\"}\n",
        "\n",
        "# Efficient membership check\n",
        "print(\"alice@example.com\" in emails)  # Output: True\n",
        "print(\"dave@example.com\" in emails)   # Output: False\n"
      ],
      "metadata": {
        "colab": {
          "base_uri": "https://localhost:8080/"
        },
        "id": "ioUrNm88qCq0",
        "outputId": "95542e84-a974-4459-dc19-01e6c789b76b"
      },
      "execution_count": null,
      "outputs": [
        {
          "output_type": "stream",
          "name": "stdout",
          "text": [
            "True\n",
            "False\n"
          ]
        }
      ]
    },
    {
      "cell_type": "code",
      "source": [
        "#Mathematical Set Operations example\n",
        "\n",
        "# Define two sets\n",
        "set_A = {1, 2, 3, 4}\n",
        "set_B = {3, 4, 5, 6}\n",
        "\n",
        "# Union: Combine all elements\n",
        "print(set_A | set_B)  # Output: {1, 2, 3, 4, 5, 6}\n",
        "\n",
        "# Intersection: Common elements\n",
        "print(set_A & set_B)  # Output: {3, 4}\n",
        "\n",
        "# Difference: Elements in A but not in B\n",
        "print(set_A - set_B)  # Output: {1, 2}\n",
        "\n",
        "# Symmetric Difference: Elements in A or B, but not both\n",
        "print(set_A ^ set_B)  # Output: {1, 2, 5, 6}\n"
      ],
      "metadata": {
        "colab": {
          "base_uri": "https://localhost:8080/"
        },
        "id": "wZixhtezqC1S",
        "outputId": "a6812208-1f58-47f0-863b-e06b0b85ead5"
      },
      "execution_count": null,
      "outputs": [
        {
          "output_type": "stream",
          "name": "stdout",
          "text": [
            "{1, 2, 3, 4, 5, 6}\n",
            "{3, 4}\n",
            "{1, 2}\n",
            "{1, 2, 5, 6}\n"
          ]
        }
      ]
    },
    {
      "cell_type": "markdown",
      "source": [
        "6. Discuss the use cases of tuples and sets in Python programming.\n",
        "\n",
        "\n",
        "    In Python, tuples and sets are both built-in data structures,\n",
        "    but they serve different purposes and have distinct characteristics.\n",
        "    Let's explore their use cases and why you might choose one over the other depending on the context.\n",
        "\n",
        "\n",
        "   \n",
        "1.Tuples\n",
        "\n",
        "Characteristics of Tuples\n",
        "\n",
        "    a. Ordered: The elements in a tuple have a defined order, which means they are indexed and can be accessed by their position.\n",
        "\n",
        "    b. Immutable: Once created, the elements within a tuple cannot be modified, added, or removed.\n",
        "\n",
        "    c. Allows Duplicates: Tuples can contain duplicate elements.\n",
        "    Heterogeneous Elements: Tuples can store elements of different data types.\n",
        "\n",
        "    d. Fixed Size: Since tuples are immutable, their size is fixed after creation.\n",
        "\n",
        "    e. Supports Indexing and Slicing: You can access tuple elements using indices and perform slicing.\n",
        "\n",
        "    f. Heterogeneous Elements :\n",
        "\n",
        "    Tuples can contain elements of different data types (e.g., integers, strings, floats, lists).\n",
        "\n",
        "\n",
        "2.Sets\n",
        "\n",
        "Characteristics of Sets\n",
        "\n",
        "    a. Unordered: Sets do not maintain any specific order of elements.\n",
        "\n",
        "    b. Mutable: You can add or remove elements from a set, although the individual elements themselves must be immutable.\n",
        "\n",
        "    c. No Duplicates: Sets automatically discard duplicate values, ensuring all elements are unique.\n",
        "\n",
        "    d. Heterogeneous Elements: Sets can store elements of different data types, but the elements must be hashable (like numbers, strings, and tuples).\n",
        "\n",
        "    e. Does Not Support Indexing or Slicing: Since sets are unordered, you cannot access elements by their index."
      ],
      "metadata": {
        "id": "PwJNHgb4Vm_O"
      }
    },
    {
      "cell_type": "markdown",
      "source": [
        "> 1.  Tuple Example\n",
        "\n",
        "      # ordered :\n",
        "\n",
        "      Tuples maintain the order of elements, which means the items have a defined sequence.\n",
        "      Each element in a tuple has a specific position, which can be accessed using indices."
      ],
      "metadata": {
        "id": "vhONQQ6m0j5B"
      }
    },
    {
      "cell_type": "code",
      "source": [
        "my_tuple = (10, 20, 30)\n",
        "print(my_tuple[1])  # Output: 20\n"
      ],
      "metadata": {
        "id": "MUVyrjMxyvf2",
        "colab": {
          "base_uri": "https://localhost:8080/"
        },
        "outputId": "56f3ecc9-57a0-409e-f74d-7d07ff7fc9d9"
      },
      "execution_count": null,
      "outputs": [
        {
          "output_type": "stream",
          "name": "stdout",
          "text": [
            "20\n"
          ]
        }
      ]
    },
    {
      "cell_type": "markdown",
      "source": [
        "    # Immutable :\n",
        "\n",
        "    Once a tuple is created, its elements cannot be changed, added, or removed.\n",
        "    \n",
        "    This immutability makes tuples more efficient than lists in some scenarios where the data should remain constant."
      ],
      "metadata": {
        "id": "F4frox9-1PY8"
      }
    },
    {
      "cell_type": "code",
      "source": [
        "my_tuple = (1, 2, 3)\n",
        "my_tuple[0] = 10  # This will raise a TypeError\n"
      ],
      "metadata": {
        "id": "3NwkyEqCyvr1",
        "colab": {
          "base_uri": "https://localhost:8080/",
          "height": 162
        },
        "outputId": "9379706d-ee42-474d-ab2d-fa8e0b41d88d"
      },
      "execution_count": null,
      "outputs": [
        {
          "output_type": "error",
          "ename": "TypeError",
          "evalue": "'tuple' object does not support item assignment",
          "traceback": [
            "\u001b[0;31m---------------------------------------------------------------------------\u001b[0m",
            "\u001b[0;31mTypeError\u001b[0m                                 Traceback (most recent call last)",
            "\u001b[0;32m<ipython-input-4-a7a650d04ee7>\u001b[0m in \u001b[0;36m<cell line: 2>\u001b[0;34m()\u001b[0m\n\u001b[1;32m      1\u001b[0m \u001b[0mmy_tuple\u001b[0m \u001b[0;34m=\u001b[0m \u001b[0;34m(\u001b[0m\u001b[0;36m1\u001b[0m\u001b[0;34m,\u001b[0m \u001b[0;36m2\u001b[0m\u001b[0;34m,\u001b[0m \u001b[0;36m3\u001b[0m\u001b[0;34m)\u001b[0m\u001b[0;34m\u001b[0m\u001b[0;34m\u001b[0m\u001b[0m\n\u001b[0;32m----> 2\u001b[0;31m \u001b[0mmy_tuple\u001b[0m\u001b[0;34m[\u001b[0m\u001b[0;36m0\u001b[0m\u001b[0;34m]\u001b[0m \u001b[0;34m=\u001b[0m \u001b[0;36m10\u001b[0m  \u001b[0;31m# This will raise a TypeError\u001b[0m\u001b[0;34m\u001b[0m\u001b[0;34m\u001b[0m\u001b[0m\n\u001b[0m",
            "\u001b[0;31mTypeError\u001b[0m: 'tuple' object does not support item assignment"
          ]
        }
      ]
    },
    {
      "cell_type": "markdown",
      "source": [
        "    # Allows Duplicates :\n",
        "\n",
        "    Tuples can store multiple instances of the same value, meaning duplicate elements are allowed."
      ],
      "metadata": {
        "id": "mdCL5Jym1mK6"
      }
    },
    {
      "cell_type": "code",
      "source": [
        "my_tuple = (5, 5, 10, 15)\n",
        "print(my_tuple)  # Output: (5, 5, 10, 15)\n"
      ],
      "metadata": {
        "id": "TyzFd8D7yv3C",
        "colab": {
          "base_uri": "https://localhost:8080/"
        },
        "outputId": "187298de-4c30-497f-f447-fb6054e0fa3c"
      },
      "execution_count": null,
      "outputs": [
        {
          "output_type": "stream",
          "name": "stdout",
          "text": [
            "(5, 5, 10, 15)\n"
          ]
        }
      ]
    },
    {
      "cell_type": "markdown",
      "source": [
        "    # Fixed Size :\n",
        "\n",
        "    The size of a tuple is determined when it is created, and it cannot be changed afterward. You cannot add or remove elements from a tuple."
      ],
      "metadata": {
        "id": "bcKZ7wW616rH"
      }
    },
    {
      "cell_type": "code",
      "source": [
        "my_tuple = (1, 2, 3)\n",
        "my_tuple.append(4)  # This will raise an AttributeError\n"
      ],
      "metadata": {
        "id": "0oQqc_x1yv-H",
        "colab": {
          "base_uri": "https://localhost:8080/",
          "height": 162
        },
        "outputId": "abbcb1a7-af43-46bc-9ba1-55014f9040a6"
      },
      "execution_count": null,
      "outputs": [
        {
          "output_type": "error",
          "ename": "AttributeError",
          "evalue": "'tuple' object has no attribute 'append'",
          "traceback": [
            "\u001b[0;31m---------------------------------------------------------------------------\u001b[0m",
            "\u001b[0;31mAttributeError\u001b[0m                            Traceback (most recent call last)",
            "\u001b[0;32m<ipython-input-6-af2aa37dd12a>\u001b[0m in \u001b[0;36m<cell line: 2>\u001b[0;34m()\u001b[0m\n\u001b[1;32m      1\u001b[0m \u001b[0mmy_tuple\u001b[0m \u001b[0;34m=\u001b[0m \u001b[0;34m(\u001b[0m\u001b[0;36m1\u001b[0m\u001b[0;34m,\u001b[0m \u001b[0;36m2\u001b[0m\u001b[0;34m,\u001b[0m \u001b[0;36m3\u001b[0m\u001b[0;34m)\u001b[0m\u001b[0;34m\u001b[0m\u001b[0;34m\u001b[0m\u001b[0m\n\u001b[0;32m----> 2\u001b[0;31m \u001b[0mmy_tuple\u001b[0m\u001b[0;34m.\u001b[0m\u001b[0mappend\u001b[0m\u001b[0;34m(\u001b[0m\u001b[0;36m4\u001b[0m\u001b[0;34m)\u001b[0m  \u001b[0;31m# This will raise an AttributeError\u001b[0m\u001b[0;34m\u001b[0m\u001b[0;34m\u001b[0m\u001b[0m\n\u001b[0m",
            "\u001b[0;31mAttributeError\u001b[0m: 'tuple' object has no attribute 'append'"
          ]
        }
      ]
    },
    {
      "cell_type": "code",
      "source": [
        "my_tuple = (1, 2, 3)\n",
        "a = list(my_tuple) ## Convert to list\n",
        "a.append(4) # # Append the new element\n",
        "print(a)\n",
        "my_tuple = tuple(a) # Convert back to tuple\n",
        "print(my_tuple)\n"
      ],
      "metadata": {
        "id": "3LVWAZUwywIb",
        "colab": {
          "base_uri": "https://localhost:8080/"
        },
        "outputId": "24642462-e64c-467b-f89a-3bd9bc609120"
      },
      "execution_count": null,
      "outputs": [
        {
          "output_type": "stream",
          "name": "stdout",
          "text": [
            "[1, 2, 3, 4]\n",
            "(1, 2, 3, 4)\n"
          ]
        }
      ]
    },
    {
      "cell_type": "markdown",
      "source": [
        "    # Supports Indexing and Slicing :\n",
        "\n",
        "    Tuples support indexing, meaning you can access elements using their position.\n",
        "    You can also use slicing to access a range of elements."
      ],
      "metadata": {
        "id": "AVENLEDA4Dtg"
      }
    },
    {
      "cell_type": "code",
      "source": [
        "my_tuple = (0, 1, 2, 3, 4)\n",
        "print(my_tuple[2])       # Output: 2\n",
        "print(my_tuple[1:4])     # Output: (1, 2, 3)\n",
        "print(my_tuple[-1])      # Output: 4 (Negative indexing)\n"
      ],
      "metadata": {
        "id": "-fUNESaAywQG",
        "colab": {
          "base_uri": "https://localhost:8080/"
        },
        "outputId": "7011c51e-a2ae-4fbc-e67b-39f5890f30ee"
      },
      "execution_count": null,
      "outputs": [
        {
          "output_type": "stream",
          "name": "stdout",
          "text": [
            "2\n",
            "(1, 2, 3)\n",
            "4\n"
          ]
        }
      ]
    },
    {
      "cell_type": "markdown",
      "source": [
        "    # Heterogeneous Elements :\n",
        "\n",
        "    Tuples can contain elements of different data types (e.g., integers, strings, floats, lists)."
      ],
      "metadata": {
        "id": "e5Ztm7Qw4idT"
      }
    },
    {
      "cell_type": "code",
      "source": [
        "mixed_tuple = (1, \"Python\", 3.14, [4, 5, 6])\n",
        "print(mixed_tuple)  # Output: (1, 'Python', 3.14, [4, 5, 6])\n"
      ],
      "metadata": {
        "id": "eimWfARbywZe",
        "colab": {
          "base_uri": "https://localhost:8080/"
        },
        "outputId": "da84fb84-c99e-40aa-f7a7-475032b089aa"
      },
      "execution_count": null,
      "outputs": [
        {
          "output_type": "stream",
          "name": "stdout",
          "text": [
            "(1, 'Python', 3.14, [4, 5, 6])\n"
          ]
        }
      ]
    },
    {
      "cell_type": "markdown",
      "source": [
        "2. Sets Example\n",
        "\n",
        "\n",
        "    # Unordered :\n",
        "\n",
        "    Sets do not maintain any specific order of elements.\n",
        "    This means that when you print a set or iterate through it, the elements may appear in a different order each time."
      ],
      "metadata": {
        "id": "hb0532QN5DLc"
      }
    },
    {
      "cell_type": "code",
      "source": [
        "my_set = {3, 1, 4, 2}\n",
        "print(my_set)  # Output might be: {1, 2, 3, 4}\n",
        "print(my_set)"
      ],
      "metadata": {
        "id": "9U_tn1unywhx",
        "colab": {
          "base_uri": "https://localhost:8080/"
        },
        "outputId": "0ed16954-282a-4967-8778-647fba4fa6a6"
      },
      "execution_count": null,
      "outputs": [
        {
          "output_type": "stream",
          "name": "stdout",
          "text": [
            "{1, 2, 3, 4}\n",
            "{1, 2, 3, 4}\n"
          ]
        }
      ]
    },
    {
      "cell_type": "markdown",
      "source": [
        "    # Mutable :\n",
        "\n",
        "    You can add or remove elements from a set after its creation.\n",
        "    \n",
        "    However, the elements themselves must be immutable (e.g., numbers, strings, tuples)."
      ],
      "metadata": {
        "id": "s-ZDIiaH5nx6"
      }
    },
    {
      "cell_type": "code",
      "source": [
        "my_set = {1, 2, 3}\n",
        "my_set.add(4)  # Adding an element\n",
        "print(my_set)  # Output: {1, 2, 3, 4}\n",
        "my_set.remove(2)  # Removing an element\n",
        "print(my_set)  # Output: {1, 3, 4}\n"
      ],
      "metadata": {
        "id": "PU2kAAnpywvG",
        "colab": {
          "base_uri": "https://localhost:8080/"
        },
        "outputId": "ac2e45a5-31b9-442c-9af5-106cda5e92d8"
      },
      "execution_count": null,
      "outputs": [
        {
          "output_type": "stream",
          "name": "stdout",
          "text": [
            "{1, 2, 3, 4}\n",
            "{1, 3, 4}\n"
          ]
        }
      ]
    },
    {
      "cell_type": "markdown",
      "source": [
        "    # No Duplicates :\n",
        "\n",
        "    Sets automatically discard duplicate values, ensuring all elements are unique."
      ],
      "metadata": {
        "id": "4ZJs4zla54Fr"
      }
    },
    {
      "cell_type": "code",
      "source": [
        "my_set = {1, 2, 2, 3, 3, 3}\n",
        "print(my_set)  # Output: {1, 2, 3}\n"
      ],
      "metadata": {
        "colab": {
          "base_uri": "https://localhost:8080/"
        },
        "id": "SXP9twsU5lnK",
        "outputId": "fa19eb09-2716-4ec5-a42c-c271b1c6cec9"
      },
      "execution_count": null,
      "outputs": [
        {
          "output_type": "stream",
          "name": "stdout",
          "text": [
            "{1, 2, 3}\n"
          ]
        }
      ]
    },
    {
      "cell_type": "markdown",
      "source": [
        "    # Heterogeneous Elements:\n",
        "\n",
        "    Sets can store elements of different data types, such as integers, strings, and tuples.\n",
        "    \n",
        "    However, all elements must be hashable (i.e., immutable and with a defined __hash__() method)."
      ],
      "metadata": {
        "id": "ugpvf4F56AYy"
      }
    },
    {
      "cell_type": "code",
      "source": [
        "my_set = {1, \"hello\", (2, 3)}\n",
        "print(my_set)  # Output: {(2, 3), 1, 'hello'}\n"
      ],
      "metadata": {
        "colab": {
          "base_uri": "https://localhost:8080/"
        },
        "id": "vdts3InY5ly3",
        "outputId": "1c1b01dd-fcdd-441e-c762-1e22e3ddf33d"
      },
      "execution_count": null,
      "outputs": [
        {
          "output_type": "stream",
          "name": "stdout",
          "text": [
            "{(2, 3), 1, 'hello'}\n"
          ]
        }
      ]
    },
    {
      "cell_type": "markdown",
      "source": [
        "    # Does Not Support Indexing or Slicing:\n",
        "\n",
        "    Since sets are unordered, you cannot access elements using an index or slice them like lists or tuples."
      ],
      "metadata": {
        "id": "qfOwe6q26TzO"
      }
    },
    {
      "cell_type": "code",
      "source": [
        "my_set = {10, 20, 30}\n",
        "# Trying to access an element by index will raise an error\n",
        "print(my_set[0])  # Raises: TypeError: 'set' object is not subscriptable\n"
      ],
      "metadata": {
        "colab": {
          "base_uri": "https://localhost:8080/",
          "height": 180
        },
        "id": "fJ3oh5l75l9k",
        "outputId": "e4e3defb-1033-4f71-ac43-6ce1b95174f2"
      },
      "execution_count": null,
      "outputs": [
        {
          "output_type": "error",
          "ename": "TypeError",
          "evalue": "'set' object is not subscriptable",
          "traceback": [
            "\u001b[0;31m---------------------------------------------------------------------------\u001b[0m",
            "\u001b[0;31mTypeError\u001b[0m                                 Traceback (most recent call last)",
            "\u001b[0;32m<ipython-input-22-0b485612eecb>\u001b[0m in \u001b[0;36m<cell line: 3>\u001b[0;34m()\u001b[0m\n\u001b[1;32m      1\u001b[0m \u001b[0mmy_set\u001b[0m \u001b[0;34m=\u001b[0m \u001b[0;34m{\u001b[0m\u001b[0;36m10\u001b[0m\u001b[0;34m,\u001b[0m \u001b[0;36m20\u001b[0m\u001b[0;34m,\u001b[0m \u001b[0;36m30\u001b[0m\u001b[0;34m}\u001b[0m\u001b[0;34m\u001b[0m\u001b[0;34m\u001b[0m\u001b[0m\n\u001b[1;32m      2\u001b[0m \u001b[0;31m# Trying to access an element by index will raise an error\u001b[0m\u001b[0;34m\u001b[0m\u001b[0;34m\u001b[0m\u001b[0m\n\u001b[0;32m----> 3\u001b[0;31m \u001b[0mprint\u001b[0m\u001b[0;34m(\u001b[0m\u001b[0mmy_set\u001b[0m\u001b[0;34m[\u001b[0m\u001b[0;36m0\u001b[0m\u001b[0;34m]\u001b[0m\u001b[0;34m)\u001b[0m  \u001b[0;31m# Raises: TypeError: 'set' object is not subscriptable\u001b[0m\u001b[0;34m\u001b[0m\u001b[0;34m\u001b[0m\u001b[0m\n\u001b[0m",
            "\u001b[0;31mTypeError\u001b[0m: 'set' object is not subscriptable"
          ]
        }
      ]
    },
    {
      "cell_type": "markdown",
      "source": [
        "7. Describe how to add, modify, and delete items in a dictionary with examples.\n",
        "\n",
        "   \n",
        "    In Python, dictionaries are a powerful way to store data in key-value pairs.\n",
        "\n",
        "    Let's explore how to add, modify, and delete items in a dictionary with examples.\n",
        "\n",
        "    Summary\n",
        "\n",
        "    Add: dictionary[key] = value\n",
        "\n",
        "    Modify: dictionary[key] = new_value\n",
        "\n",
        "    Delete:\n",
        "       \n",
        "    Specific key: del dictionary[key] or dictionary.pop(key)\n",
        "    \n",
        "    Last item: dictionary.popitem()\n",
        "\n",
        "    All items: dictionary.clear()"
      ],
      "metadata": {
        "id": "J9pUtorWVsHK"
      }
    },
    {
      "cell_type": "markdown",
      "source": [
        "    a. Adding Items to a Dictionary\n",
        "\n",
        "    To add a new item (key-value pair) to a dictionary, you can simply assign a value to a new key using the syntax:\n",
        "\n",
        "    dictionary[key] = value"
      ],
      "metadata": {
        "id": "1c5TpRSS7clH"
      }
    },
    {
      "cell_type": "code",
      "source": [
        "# Creating an empty dictionary\n",
        "my_dict = {}\n",
        "\n",
        "# Adding new key-value pairs\n",
        "my_dict['name'] = 'Alice'\n",
        "my_dict['age'] = 25\n",
        "my_dict['city'] = 'New York'\n",
        "\n",
        "# Display the updated dictionary\n",
        "print(my_dict)\n"
      ],
      "metadata": {
        "id": "Q4sPbS7OVw9n",
        "colab": {
          "base_uri": "https://localhost:8080/"
        },
        "outputId": "8fa49080-4842-40be-a53b-7ee5de9d9af1"
      },
      "execution_count": null,
      "outputs": [
        {
          "output_type": "stream",
          "name": "stdout",
          "text": [
            "{'name': 'Alice', 'age': 25, 'city': 'New York'}\n"
          ]
        }
      ]
    },
    {
      "cell_type": "markdown",
      "source": [
        "    b. Modifying Items in a Dictionary\n",
        "\n",
        "    To modify an existing item, you can update the value associated with a key using the same syntax as adding an item:\n",
        "\n",
        "    dictionary[key] = new_value"
      ],
      "metadata": {
        "id": "ckAct3pN7s2x"
      }
    },
    {
      "cell_type": "code",
      "source": [
        "# Existing dictionary\n",
        "my_dict = {'name': 'Alice', 'age': 25, 'city': 'New York'}\n",
        "\n",
        "# Modifying an existing key-value pair\n",
        "my_dict['age'] = 26\n",
        "my_dict['city'] = 'San Francisco'\n",
        "\n",
        "# Display the modified dictionary\n",
        "print(my_dict)\n"
      ],
      "metadata": {
        "colab": {
          "base_uri": "https://localhost:8080/"
        },
        "id": "eW1e6dYZ7TvM",
        "outputId": "5996879b-5855-4d09-e8ee-5c30a31fb41f"
      },
      "execution_count": null,
      "outputs": [
        {
          "output_type": "stream",
          "name": "stdout",
          "text": [
            "{'name': 'Alice', 'age': 26, 'city': 'San Francisco'}\n"
          ]
        }
      ]
    },
    {
      "cell_type": "markdown",
      "source": [
        "    c. Deleting Items from a Dictionary\n",
        "\n",
        "    There are several ways to remove items from a dictionary:\n",
        "    \n",
        "    # Using the del keyword\n",
        "\n",
        "    The del statement removes a key-value pair by specifying the key.\n",
        "\n",
        "    del dictionary[key]"
      ],
      "metadata": {
        "id": "e6Opk_1T76Or"
      }
    },
    {
      "cell_type": "code",
      "source": [
        "# Existing dictionary\n",
        "my_dict = {'name': 'Alice', 'age': 26, 'city': 'San Francisco'}\n",
        "\n",
        "# Deleting an item\n",
        "del my_dict['age']\n",
        "\n",
        "# Display the updated dictionary\n",
        "print(my_dict)\n"
      ],
      "metadata": {
        "id": "NE9jAEMP7UGw",
        "colab": {
          "base_uri": "https://localhost:8080/"
        },
        "outputId": "42fdb7cd-b8f9-4fd4-d2e2-5f5708d8fb37"
      },
      "execution_count": null,
      "outputs": [
        {
          "output_type": "stream",
          "name": "stdout",
          "text": [
            "{'name': 'Alice', 'city': 'San Francisco'}\n"
          ]
        }
      ]
    },
    {
      "cell_type": "markdown",
      "source": [
        "    # Using the .pop() method\n",
        "\n",
        "    The .pop() method removes an item by key and returns its value.\n",
        "\n",
        "    If the key is not found, it raises a KeyError, unless you provide a default value.\n",
        "\n",
        "    value = dictionary.pop(key, default_value)"
      ],
      "metadata": {
        "id": "RE_XV5ku-OK-"
      }
    },
    {
      "cell_type": "code",
      "source": [
        "# Existing dictionary\n",
        "my_dict = {'name': 'Alice', 'city': 'San Francisco'}\n",
        "\n",
        "# Removing an item with .pop()\n",
        "removed_value = my_dict.pop('city')\n",
        "\n",
        "print(\"Removed Value:\", removed_value)\n",
        "print(\"Updated Dictionary:\", my_dict)\n"
      ],
      "metadata": {
        "id": "aQ7rbjZS7UTq",
        "colab": {
          "base_uri": "https://localhost:8080/"
        },
        "outputId": "d587dd35-e952-4cdb-b08e-67b1e601bc79"
      },
      "execution_count": null,
      "outputs": [
        {
          "output_type": "stream",
          "name": "stdout",
          "text": [
            "Removed Value: San Francisco\n",
            "Updated Dictionary: {'name': 'Alice'}\n"
          ]
        }
      ]
    },
    {
      "cell_type": "markdown",
      "source": [
        "    # Using the .popitem() method\n",
        "\n",
        "    The .popitem() method removes and returns the last inserted key-value pair as a tuple.\n",
        "\n",
        "    This is useful if you want to treat the dictionary as a stack (LIFO - Last In, First Out).\n",
        "    \n",
        "    In Python 3.7 and later, dictionaries maintain insertion order.\n",
        "\n",
        "    key, value = dictionary.popitem()"
      ],
      "metadata": {
        "id": "SvgmtAQC_-yZ"
      }
    },
    {
      "cell_type": "code",
      "source": [
        "# Existing dictionary\n",
        "my_dict = {'name': 'Alice', 'age': 26}\n",
        "\n",
        "# Removing the last inserted item\n",
        "last_item = my_dict.popitem()\n",
        "\n",
        "print(\"Removed Item:\", last_item)\n",
        "print(\"Updated Dictionary:\", my_dict)\n"
      ],
      "metadata": {
        "id": "taZyWAps7UgO",
        "colab": {
          "base_uri": "https://localhost:8080/"
        },
        "outputId": "1f7f1a66-4e40-42c2-8ff5-aa6e178f5d52"
      },
      "execution_count": null,
      "outputs": [
        {
          "output_type": "stream",
          "name": "stdout",
          "text": [
            "Removed Item: ('age', 26)\n",
            "Updated Dictionary: {'name': 'Alice'}\n"
          ]
        }
      ]
    },
    {
      "cell_type": "markdown",
      "source": [
        "    # Using the .clear() method\n",
        "\n",
        "    If you want to remove all items from a dictionary, you can use the .clear() method.\n",
        "\n",
        "    dictionary.clear()"
      ],
      "metadata": {
        "id": "x_GuGVzcAWKK"
      }
    },
    {
      "cell_type": "code",
      "source": [
        "# Existing dictionary\n",
        "my_dict = {'name': 'Alice', 'age': 26}\n",
        "\n",
        "# Clearing the dictionary\n",
        "my_dict.clear()\n",
        "\n",
        "print(\"Cleared Dictionary:\", my_dict)\n"
      ],
      "metadata": {
        "id": "CS1crBin-sGA",
        "colab": {
          "base_uri": "https://localhost:8080/"
        },
        "outputId": "8dacf83e-d940-4443-8eda-91d7906a926c"
      },
      "execution_count": null,
      "outputs": [
        {
          "output_type": "stream",
          "name": "stdout",
          "text": [
            "Cleared Dictionary: {}\n"
          ]
        }
      ]
    },
    {
      "cell_type": "code",
      "source": [],
      "metadata": {
        "id": "ahPzivlz7Uyv"
      },
      "execution_count": null,
      "outputs": []
    },
    {
      "cell_type": "markdown",
      "source": [
        "8. Discuss the importance of dictionary keys being immutable and provide examples.\n",
        "\n",
        "\n",
        "\n",
        "    In Python, dictionary keys must be immutable, which means they cannot be changed after they are created. This characteristic is essential for maintaining the integrity and performance of dictionaries, especially in terms of how Python handles data internally.\n",
        "\n",
        "    Why Must Dictionary Keys Be Immutable?\n",
        "\n",
        "    Hashing Requirement:\n",
        "        Dictionaries in Python use a data structure called a hash table to store key-value pairs.\n",
        "        For a key to be stored in a hash table, Python computes a unique number called a hash value using the key.\n",
        "        If keys were mutable (i.e., could change), their hash values would also change, leading to inconsistencies.\n",
        "       The dictionary would lose track of where the key-value pair is stored, making it impossible to retrieve the value correctly.\n",
        "    Consistency in Lookups:\n",
        "        Since dictionary keys must remain consistent during their lifetime, immutability ensures that the data associated with a key can always be found at the same location.\n",
        "        If mutable keys were allowed, modifying a key would result in the dictionary being unable to find the corresponding value, breaking the logic of the program.\n",
        "\n",
        "Examples of Immutable vs. Mutable Types\n",
        "\n",
        "    Immutable types: int, float, string, tuple, frozenset\n",
        "        Example keys: 42, \"name\", (1, 2, 3)\n",
        "        \n",
        "    Mutable types: list, dict, set\n",
        "        Example keys that would cause errors: [1, 2, 3], {1: 'a'}, {1, 2, 3}"
      ],
      "metadata": {
        "id": "P2v24HYKVxVi"
      }
    },
    {
      "cell_type": "code",
      "source": [
        "# Example with immutable keys\n",
        "person_info = {\n",
        "    \"name\": \"Abhishek\",  # string (immutable)\n",
        "    (2024, \"ID\"): \"A12345\"  # tuple (immutable)\n",
        "}\n",
        "\n",
        "print(person_info[\"name\"])  # Output: Abhishek\n",
        "\n",
        "\n"
      ],
      "metadata": {
        "id": "vVwzIIrpV2Qp",
        "colab": {
          "base_uri": "https://localhost:8080/"
        },
        "outputId": "8df225a8-8511-4592-9625-712ec72218b9"
      },
      "execution_count": null,
      "outputs": [
        {
          "output_type": "stream",
          "name": "stdout",
          "text": [
            "Abhishek\n"
          ]
        }
      ]
    },
    {
      "cell_type": "markdown",
      "source": [],
      "metadata": {
        "id": "uzFWLsB-VdpC"
      }
    },
    {
      "cell_type": "code",
      "source": [
        "# Example with mutable keys\n",
        "# Attempting to use a list as a dictionary key\n",
        "my_dict = {\n",
        "    [1, 2, 3]: \"This is a list as key\"  # Lists are mutable, so this will cause an error\n",
        "}\n",
        "\n",
        "\n",
        " # Python will raise an error because lists are mutable, and mutable types cannot be used as dictionary keys."
      ],
      "metadata": {
        "colab": {
          "base_uri": "https://localhost:8080/",
          "height": 198
        },
        "id": "fPq3KtpmDNrm",
        "outputId": "737bf672-01ff-4cd5-f6bb-97962473931a"
      },
      "execution_count": null,
      "outputs": [
        {
          "output_type": "error",
          "ename": "TypeError",
          "evalue": "unhashable type: 'list'",
          "traceback": [
            "\u001b[0;31m---------------------------------------------------------------------------\u001b[0m",
            "\u001b[0;31mTypeError\u001b[0m                                 Traceback (most recent call last)",
            "\u001b[0;32m<ipython-input-33-4653f190531f>\u001b[0m in \u001b[0;36m<cell line: 3>\u001b[0;34m()\u001b[0m\n\u001b[1;32m      1\u001b[0m \u001b[0;31m# Attempting to use a list as a dictionary key\u001b[0m\u001b[0;34m\u001b[0m\u001b[0;34m\u001b[0m\u001b[0m\n\u001b[0;32m----> 2\u001b[0;31m my_dict = {\n\u001b[0m\u001b[1;32m      3\u001b[0m     \u001b[0;34m[\u001b[0m\u001b[0;36m1\u001b[0m\u001b[0;34m,\u001b[0m \u001b[0;36m2\u001b[0m\u001b[0;34m,\u001b[0m \u001b[0;36m3\u001b[0m\u001b[0;34m]\u001b[0m\u001b[0;34m:\u001b[0m \u001b[0;34m\"This is a list as key\"\u001b[0m  \u001b[0;31m# Lists are mutable, so this will cause an error\u001b[0m\u001b[0;34m\u001b[0m\u001b[0;34m\u001b[0m\u001b[0m\n\u001b[1;32m      4\u001b[0m }\n",
            "\u001b[0;31mTypeError\u001b[0m: unhashable type: 'list'"
          ]
        }
      ]
    },
    {
      "cell_type": "code",
      "source": [
        "# Attempting to use a dictionary as a key\n",
        "another_dict = {\n",
        "    {1: \"one\", 2: \"two\"}: \"This is a dictionary as key\"  # Dictionaries are mutable\n",
        "}\n"
      ],
      "metadata": {
        "colab": {
          "base_uri": "https://localhost:8080/",
          "height": 198
        },
        "id": "N2f56QKzDjZf",
        "outputId": "1e2ce62a-7f58-46b3-f435-cf73a65a6218"
      },
      "execution_count": null,
      "outputs": [
        {
          "output_type": "error",
          "ename": "TypeError",
          "evalue": "unhashable type: 'dict'",
          "traceback": [
            "\u001b[0;31m---------------------------------------------------------------------------\u001b[0m",
            "\u001b[0;31mTypeError\u001b[0m                                 Traceback (most recent call last)",
            "\u001b[0;32m<ipython-input-34-11c036f0844e>\u001b[0m in \u001b[0;36m<cell line: 3>\u001b[0;34m()\u001b[0m\n\u001b[1;32m      1\u001b[0m \u001b[0;31m# Attempting to use a dictionary as a key\u001b[0m\u001b[0;34m\u001b[0m\u001b[0;34m\u001b[0m\u001b[0m\n\u001b[0;32m----> 2\u001b[0;31m another_dict = {\n\u001b[0m\u001b[1;32m      3\u001b[0m     \u001b[0;34m{\u001b[0m\u001b[0;36m1\u001b[0m\u001b[0;34m:\u001b[0m \u001b[0;34m\"one\"\u001b[0m\u001b[0;34m,\u001b[0m \u001b[0;36m2\u001b[0m\u001b[0;34m:\u001b[0m \u001b[0;34m\"two\"\u001b[0m\u001b[0;34m}\u001b[0m\u001b[0;34m:\u001b[0m \u001b[0;34m\"This is a dictionary as key\"\u001b[0m  \u001b[0;31m# Dictionaries are mutable\u001b[0m\u001b[0;34m\u001b[0m\u001b[0;34m\u001b[0m\u001b[0m\n\u001b[1;32m      4\u001b[0m }\n",
            "\u001b[0;31mTypeError\u001b[0m: unhashable type: 'dict'"
          ]
        }
      ]
    },
    {
      "cell_type": "code",
      "source": [],
      "metadata": {
        "id": "kCZQBxIJDn89"
      },
      "execution_count": null,
      "outputs": []
    }
  ]
}